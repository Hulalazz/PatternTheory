{
 "cells": [
  {
   "cell_type": "code",
   "execution_count": 2,
   "metadata": {},
   "outputs": [],
   "source": [
    "import numpy as np\n",
    "import matplotlib.pyplot as plt"
   ]
  },
  {
   "cell_type": "code",
   "execution_count": 3,
   "metadata": {},
   "outputs": [],
   "source": [
    "n = 15\n",
    "X = 2 + 20.*np.random.randn(n)\n",
    "# print X"
   ]
  },
  {
   "cell_type": "markdown",
   "metadata": {},
   "source": [
    "Find $\\mu$ and $\\sigma$ to maximise\n",
    "$$p(\\vec{x}) = \\frac{1}{\\left(\\sigma \\sqrt{2 \\pi}\\right)^n} \\cdot exp{\\left( - \\sum\\limits_{i=0}^{n-1} \\frac{(x_i - \\mu)^2}{2 \\sigma ^2}\\right)} $$ \n",
    "Taking log of both sides, this is equilvalent to minimising\n",
    "$$- \\log( p(\\vec{x}) ) = n \\left(\\log(\\sigma) + \\frac{1}{2} \\log(2 \\pi)\\right) + \\frac{1}{2 \\sigma ^2} {\\left( \\sum\\limits_{i=0}^{n-1} {(x_i - \\mu)^2}\\right)} $$ \n",
    "For minimum, since the minimum value of $\\mu$ does not depend on $\\sigma$, \n",
    "$$ \\mu = \\frac{1}{n} \\sum\\limits_{i=0}^{n-1} x_i $$"
   ]
  },
  {
   "cell_type": "code",
   "execution_count": 4,
   "metadata": {},
   "outputs": [
    {
     "name": "stdout",
     "output_type": "stream",
     "text": [
      "2.75225166891\n"
     ]
    }
   ],
   "source": [
    "mean_X = np.mean(X)\n",
    "print(mean_X)"
   ]
  },
  {
   "cell_type": "markdown",
   "metadata": {},
   "source": [
    "We will plot the log likelihood to find the optimal $\\sigma$."
   ]
  },
  {
   "cell_type": "code",
   "execution_count": 5,
   "metadata": {},
   "outputs": [
    {
     "name": "stdout",
     "output_type": "stream",
     "text": [
      "5205.00803657\n"
     ]
    }
   ],
   "source": [
    "squared_difference = np.sum(np.power(X + [-mean_X]*n, 2))\n",
    "print(squared_difference)"
   ]
  },
  {
   "cell_type": "markdown",
   "metadata": {},
   "source": [
    "Plotting this w.r.t. $\\sigma$ \n",
    "\n",
    "$$n \\left(\\log(\\sigma) + \\frac{1}{2} \\log(2 \\pi)\\right) + \\frac{1}{2 \\sigma ^2} {\\left( \\sum\\limits_{i=0}^{n-1} {(x_i - \\mu)^2}\\right)} $$ "
   ]
  },
  {
   "cell_type": "code",
   "execution_count": 6,
   "metadata": {},
   "outputs": [],
   "source": [
    "s_range = np.arange(20-15,20+20,.1)\n",
    "s_ = [n * (np.log(s) + 0.5*np.log(np.sqrt(2 * np.pi))) + 0.5 * (s**(-2)) * squared_difference for s in s_range]\n",
    "s_1 = [n * (np.log(s) + 0.5*np.log(np.sqrt(2 * np.pi))) for s in s_range]\n",
    "s_2 = [0.5 * (s**(-2)) * squared_difference for s in s_range]"
   ]
  },
  {
   "cell_type": "code",
   "execution_count": 7,
   "metadata": {},
   "outputs": [
    {
     "data": {
      "image/png": "[encoded data removed]",
      "text/plain": [
       "<matplotlib.figure.Figure at 0x107f00b50>"
      ]
     },
     "metadata": {},
     "output_type": "display_data"
    }
   ],
   "source": [
    "plt.plot(s_range, s_, color='r')\n",
    "plt.plot(s_range, s_1, color='k') # first term\n",
    "plt.plot(s_range, s_2, color='b') # second term\n",
    "plt.show()"
   ]
  },
  {
   "cell_type": "code",
   "execution_count": 7,
   "metadata": {},
   "outputs": [
    {
     "name": "stdout",
     "output_type": "stream",
     "text": [
      "18.4\n"
     ]
    }
   ],
   "source": [
    "print(s_range[np.argmin(s_)])"
   ]
  },
  {
   "cell_type": "code",
   "execution_count": 8,
   "metadata": {},
   "outputs": [
    {
     "name": "stdout",
     "output_type": "stream",
     "text": [
      "sample_variance : 338.629330295\n",
      "std_dev_wo_corr : 18.401883879\n",
      "populn_variance : 362.817139602\n",
      "std_dev : 19.0477594378\n"
     ]
    }
   ],
   "source": [
    "sample_variance = squared_difference / n\n",
    "print(\"sample_variance : {}\".format(sample_variance))\n",
    "std_wo_corr = np.sqrt(sample_variance)\n",
    "print(\"std_dev_wo_corr : {}\".format(std_wo_corr))\n",
    "populn_variance = squared_difference / (n-1)\n",
    "print(\"populn_variance : {}\".format(populn_variance))\n",
    "std_dev = np.sqrt(populn_variance)\n",
    "print(\"std_dev : {}\".format(std_dev))\n",
    "# results vary"
   ]
  },
  {
   "cell_type": "markdown",
   "metadata": {},
   "source": [
    "## Calculating derivative  \n",
    "Differentiating w.r.t. $\\sigma$\n",
    "\n",
    "$$ \\frac{n}{\\sigma} - \\frac{1}{\\sigma ^ 3} {\\left( \\sum\\limits_{i=0}^{n-1} {(x_i - \\mu)^2}\\right)} $$\n",
    "\n",
    "Solving for zero\n",
    "\n",
    "$$ \\sigma^2 = \\frac{1}{n} {\\left( \\sum\\limits_{i=0}^{n-1} {(x_i - \\mu)^2}\\right)} $$\n",
    "\n",
    "Question is, how is this related to the unbiased estimate for population variance / std_dev?"
   ]
  },
  {
   "cell_type": "code",
   "execution_count": 9,
   "metadata": {},
   "outputs": [
    {
     "data": {
      "image/png": "[encoded data removed]",
      "text/plain": [
       "<matplotlib.figure.Figure at 0x802ae30>"
      ]
     },
     "metadata": {},
     "output_type": "display_data"
    }
   ],
   "source": [
    "s_1 = [n / s - 1 / (s**3) * squared_difference for s in s_range]\n",
    "plt.plot(s_range, s_1)\n",
    "plt.plot(s_range, [0]*len(s_range))\n",
    "plt.show()"
   ]
  },
  {
   "cell_type": "code",
   "execution_count": null,
   "metadata": {
    "collapsed": true
   },
   "outputs": [],
   "source": []
  },
  {
   "cell_type": "code",
   "execution_count": null,
   "metadata": {
    "collapsed": true
   },
   "outputs": [],
   "source": [
    "# maximum likelihood - given the observed data, choose the one that most likely give me this\n",
    "# UE - estimator which has the smaller variance, considers sample size? different? \n",
    "# minimum variance - estimate how far it range, looking the variance of the estimator\n",
    "# \"minimise variance of variance\"?\n",
    "# asympoittcally unbaised, as long as for large samples it close, now data processing is cheap\n"
   ]
  }
 ],
 "metadata": {
  "kernelspec": {
   "display_name": "Python 2",
   "language": "python",
   "name": "python2"
  },
  "language_info": {
   "codemirror_mode": {
    "name": "ipython",
    "version": 2
   },
   "file_extension": ".py",
   "mimetype": "text/x-python",
   "name": "python",
   "nbconvert_exporter": "python",
   "pygments_lexer": "ipython2",
   "version": "2.7.14"
  }
 },
 "nbformat": 4,
 "nbformat_minor": 2
}
