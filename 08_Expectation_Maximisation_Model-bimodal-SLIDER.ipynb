{
 "cells": [
  {
   "cell_type": "markdown",
   "metadata": {},
   "source": [
    "# Expectation Maximisation on Mixture Model"
   ]
  },
  {
   "cell_type": "markdown",
   "metadata": {},
   "source": [
    "# EDIT NOTES\n",
    "THE FORMULAS IN THE MARKDOWN IS OLD. We now fix 3 of the 5 parameters $\\pi$, $\\sigma_1$, $\\sigma_2$. We now minimise negative log likelihood w.r.t. $\\mu_1$ and $\\mu_2$.\n",
    "\n",
    "We now include colorplot and surface plot. It is easier to see how EM algorithm works now."
   ]
  },
  {
   "cell_type": "markdown",
   "metadata": {},
   "source": [
    "# Table of contents\n",
    "1. [Setting the ground truth](#first-bullet)\n",
    "2. [Glossary of terms](#Glossary of terms)\n",
    "2a. [The model](#The model)\n",
    "2b. [Probabilities](#Probabilities)\n",
    "2c. [Likelihood](#Likelihood)\n",
    "2d. [Intermediate values](#Intermediate values)\n",
    "3. [Generating samples from ground truth](#Generating samples from ground truth)\n",
    "4. [Defining the negative log-likelihood](#Defining negative log-likelihood)\n",
    "5. [EM algorithm](#EM algorithm) \n",
    "5a. [Expectation Step](#Expectation Step) \n",
    "5b. [Maximisation Step](#Maximisation Step)\n",
    "6. [Performing iterations](#Performing iterations) \n",
    "6a. [Setting the initial parameters](#Setting the initial parameters)"
   ]
  },
  {
   "cell_type": "markdown",
   "metadata": {},
   "source": [
    "We model $Y$ as a mixture of two Gaussian distirbutions, with parameters $\\theta = \\{p, \\mu_1, \\sigma_1, \\mu_2, \\sigma_2\\}$:\n",
    "\n",
    "$$\n",
    "\\begin{align} \n",
    "Y_1 &\\sim N(\\mu_1 , \\sigma_1^2 ) \\\\\n",
    "Y_2 &\\sim N(\\mu_2 , \\sigma_2^2 ) \\\\\n",
    "Y &= (1 - z) \\cdot Y_1 + z\\cdot Y_2\n",
    "\\end{align}$$\n",
    "\n",
    "where $z = \\{0,1\\}$ and $P(z = 1) = p$\n",
    "\n",
    "This time we fix the probability $p$ and variances $\\mu_1,\\mu_2$ and it is known. We have $p$ = 0.5 and variances that differ slightly $\\mu_1 = 3$, $\\mu_2 = 2$"
   ]
  },
  {
   "cell_type": "markdown",
   "metadata": {},
   "source": [
    "Following is the pdf of $Y$, where $\\phi_1$ and $\\phi_2$ refer to the two Gaussians represented by $Y_1$ and $Y_2$\n",
    "\n",
    "$$\\begin{align}\n",
    "P(y|\\theta) &= (1 - p) \\phi_1(y) + p \\phi_2(y)\\\\\n",
    "&=\\left( \n",
    "\\frac{1-p}{\\sigma_1\\sqrt{2 \\pi}} exp\\left({-\\frac{(y - \\mu_1)^2} {2 \\sigma_1^2}}\\right) \n",
    "+ \\frac{p}{\\sigma_2\\sqrt{2 \\pi}} exp\\left({-\\frac{(y - \\mu_2)^2} {2 \\sigma_2^2}}\\right) \n",
    "\\right)\n",
    "\\end{align}$$\n",
    "\n",
    "The parameter of $Y$ is $\\theta = \\left\\{ p, \\mu_1, \\sigma_1, \\mu_2, \\sigma_2 \\right\\}$"
   ]
  },
  {
   "cell_type": "markdown",
   "metadata": {},
   "source": [
    "# Glossary of terms <a class=\"anchor\" id=\"Glossary of terms\"></a>\n",
    "TODO: ADD CODE HERE"
   ]
  },
  {
   "cell_type": "markdown",
   "metadata": {},
   "source": [
    "### The model <a class=\"anchor\" id=\"The model\"></a>\n",
    "\n",
    "$\\phi$ The bimodal Mixture Guassian distribution. The model is defined with parameter $\\theta$. <br\\>\n",
    "$\\theta$ The parameter vector of model $Y$. $\\theta$ is made up of parameters $\\{p, \\mu_1, \\sigma_1, \\mu_2, \\sigma_2\\}$\n",
    "\n",
    "\n",
    "$p$ `pi` The probability of a sample being sampled from Gaussian distribution $\\phi_2$ rather than $\\phi_1$. <br\\>\n",
    "$z$ The hidden variable that indicates which Gaussian distribution a sample was from. If $z = 0$, then the observation was sampled from $Y_1$. If $z = 1$, then the observation was sampled from $Y_2$.\n",
    "\n",
    "$\\phi_1$ The first Gaussian distribution that makes up the mixture distribution. It is defined by parameters $\\mu_1$ and $\\sigma_1$ <br\\>\n",
    "$\\mu_1$ `mu_1` The mean of Gaussian distribution $\\phi_1$ <br\\>\n",
    "$\\sigma_1$ `stde_1` The standard deviation of Gaussian distribution $\\phi_1$\n",
    "\n",
    "$\\phi_2$ The second Gaussian distribution that makes up the mixture distribution. It is defined by of parameters $\\mu_2$ and $\\sigma_2$ <br\\>\n",
    "$\\mu_2$ `mu_2` The mean of Gaussian distribution $\\phi_2$ <br\\>\n",
    "$\\sigma_2$ `stde_2` The standard deviation of Gaussian distribution $\\phi_2$\n",
    "\n",
    "$\\phi$ The second Gaussian distributions that makes up the mixture distribution."
   ]
  },
  {
   "cell_type": "markdown",
   "metadata": {},
   "source": [
    "### Probabilities <a class=\"anchor\" id=\"Probabilities\"></a>\n",
    "\n",
    "$\\mathbf{X}$ `samples` The set of observations $x_i$ of length $N$ sampled from the random variable $Y$. <br\\>\n",
    "$\\mathbf{Z}$ The set of hidden variables of length $N$ that corresponds to the \"state\" $z_i$ of the system at each observation $i$. <br\\>\n",
    "\n",
    "\n",
    "$P(x)$ Probability of event $x$ happening. <br\\>\n",
    "\n",
    "$P(\\mathbf{X}| \\theta)$ Conditional probability of getting observations $\\mathbf{X}$ given the parameters of the model $\\theta$.\n",
    "\n",
    "$P(\\mathbf{X}| \\mathbf{Z}, \\theta)$ Conditional probability of getting observations $\\mathbf{X}$ given the hidden variables $\\mathbf{Z}$ and parameters of the model $\\theta$\n",
    "\n",
    "$P(\\mathbf{X}, \\mathbf{Z}| \\theta)$ Conditional probability of getting both observations $\\mathbf{X}$ and hidden variables $\\mathbf{Z}$ given the parameters of the model $\\theta$"
   ]
  },
  {
   "cell_type": "markdown",
   "metadata": {},
   "source": [
    "### Likelihood <a class=\"anchor\" id=\"Likelihood\"></a>\n",
    "\n",
    "$\\ell(x|y)$ The log-likelihood of y given x. $\\ell(x|y) = -\\log P(y|x)$\n",
    "\n",
    "$\\ell(\\theta, \\mathbf{X})$ The log-likelihood of parameter $\\theta$ and the observations $\\mathbf{X}$\n",
    "\n",
    "$\\ell(\\theta| \\mathbf{X})$ The log-likelihood of observations $\\mathbf{X}$ given parameter $\\theta$\n",
    "\n",
    "$\\ell(\\theta| \\mathbf{X}, \\mathbf{Z})$ The log-likelihood of observations $\\mathbf{X}$ and hidden variables $\\mathbf{Z}$ given parameter $\\theta$\n",
    "\n",
    "$\\ell(\\theta, \\mathbf{Z}|\\mathbf{X})$ The log-likelihood of observations $\\mathbf{X}$ given hidden variables $\\mathbf{Z}$ and parameter $\\theta$"
   ]
  },
  {
   "cell_type": "markdown",
   "metadata": {},
   "source": [
    "### Intermediate values  <a class=\"anchor\" id=\"Intermediate values\"></a>\n",
    "$\\gamma$ The responsibility of one of the two Gaussians on a sample, given current model $\\theta$. $\\gamma_i$ is the probability that the sample $i$ belongs to $\\theta_2$ rather than $\\theta_1$. \n",
    "\n"
   ]
  },
  {
   "cell_type": "markdown",
   "metadata": {},
   "source": [
    "# Setting the ground truth <a class=\"anchor\" id=\"first-bullet\"></a>\n",
    "\n",
    "This is the ground truth parameter vector \n",
    "<br> $\\theta_{true} = (p, \\mu_1, \\sigma_1, \\mu_2, \\sigma_2) = $ `pi_true, stde_1_true, mu_2_true, stde_2_true`  \n",
    "\n",
    "This is used to generate the set of samples."
   ]
  },
  {
   "cell_type": "code",
   "execution_count": 1,
   "metadata": {
    "scrolled": true
   },
   "outputs": [],
   "source": [
    "pi_true = 0.5  # probability if it lies from normal distribution 2 \n",
    "mu_1_true = 0.\n",
    "stde_1_true = .5\n",
    "mu_2_true = 3.\n",
    "stde_2_true = 1."
   ]
  },
  {
   "cell_type": "markdown",
   "metadata": {
    "scrolled": true
   },
   "source": [
    "We will show $\\phi$ as well as $\\phi_1$ and $\\phi_2$."
   ]
  },
  {
   "cell_type": "code",
   "execution_count": 2,
   "metadata": {
    "scrolled": true
   },
   "outputs": [
    {
     "data": {
      "image/png": "[encoded data removed]",
      "text/plain": [
       "<Figure size 1152x288 with 1 Axes>"
      ]
     },
     "metadata": {},
     "output_type": "display_data"
    }
   ],
   "source": [
    "%matplotlib inline\n",
    "# plotting the pdf\n",
    "import numpy as np\n",
    "import matplotlib.pyplot as plt\n",
    "\n",
    "plot_range = np.arange(-5,10,0.01)\n",
    "pdf_Y1 = [((1.-pi_true)/(np.sqrt(2.*np.pi*stde_1_true**2.))) * \n",
    "          np.exp(-(x - mu_1_true)**2. / (2.*stde_1_true**2)) for x in plot_range]\n",
    "pdf_Y2 = [(pi_true/(np.sqrt(2.*np.pi*stde_2_true**2.))) * \n",
    "          np.exp(-(x - mu_2_true)**2. / (2.*stde_2_true**2)) for x in plot_range]\n",
    "pdf_Y = np.add(pdf_Y1,pdf_Y2)\n",
    "\n",
    "plt.figure(figsize=(16,4))\n",
    "plt.plot(plot_range,pdf_Y1, label=\"Y1\")\n",
    "plt.plot(plot_range,pdf_Y2, label=\"Y2\")\n",
    "plt.plot(plot_range,pdf_Y, label=\"Y\")\n",
    "plt.legend(loc=\"best\")\n",
    "plt.show()"
   ]
  },
  {
   "cell_type": "markdown",
   "metadata": {},
   "source": [
    "# Generating samples from ground truth <a class=\"anchor\" id=\"Generating samples from ground truth\"></a>\n",
    "\n",
    "We will now generate some samples from $\\theta_{true}$, and this will be $\\mathbf{X}$"
   ]
  },
  {
   "cell_type": "code",
   "execution_count": 3,
   "metadata": {
    "scrolled": true
   },
   "outputs": [
    {
     "data": {
      "image/png": "[encoded data removed]",
      "text/plain": [
       "<Figure size 1152x72 with 1 Axes>"
      ]
     },
     "metadata": {},
     "output_type": "display_data"
    }
   ],
   "source": [
    "l = 1000\n",
    "dot_size = 1.\n",
    "\n",
    "samples = [stde_1_true*np.random.randn() + mu_1_true\n",
    "           if np.random.random() > pi_true \n",
    "           else stde_2_true*np.random.randn() + mu_2_true\n",
    "           for _ in range(l)]\n",
    "\n",
    "plt.figure(figsize=(16,1))\n",
    "plt.scatter(samples,np.random.random(l),s=dot_size)\n",
    "plt.show()"
   ]
  },
  {
   "cell_type": "markdown",
   "metadata": {},
   "source": [
    "Plotting the histogram of samples $\\mathbf{X}$."
   ]
  },
  {
   "cell_type": "code",
   "execution_count": 4,
   "metadata": {
    "scrolled": true
   },
   "outputs": [],
   "source": [
    "def plot_hist_pdf(samples_, pi_, mu_1_, mu_2_, stde_1_, stde_2_):\n",
    "    plt.figure(figsize=(16,2))\n",
    "    pdf_Y1 = [((1.-pi_)/(np.sqrt(2.*np.pi*stde_1_**2.))) * \n",
    "            np.exp(-(x - mu_1_)**2. / (2.*stde_1_**2)) for x in plot_range]\n",
    "    pdf_Y2 = [(pi_/(np.sqrt(2.*np.pi*stde_2_**2.))) * \n",
    "            np.exp(-(x - mu_2_)**2. / (2.*stde_2_**2)) for x in plot_range]\n",
    "    pdf_Y = np.add(pdf_Y1,pdf_Y2)\n",
    "    plt.hist(samples, normed=True, bins=plot_range, color=\"orange\")\n",
    "    plt.plot(plot_range,pdf_Y1, label=\"Y1\")\n",
    "    plt.plot(plot_range,pdf_Y2, label=\"Y2\")\n",
    "    plt.plot(plot_range,pdf_Y, label=\"Y\")\n",
    "    plt.show()\n",
    "    print(\"pi = {:.4f}, mu_1 = {:.4f}, mu_2 = {:.4f}, stde_1 = {:.4f}, stde_2 = {:.4f}\"\n",
    "      .format(pi_,mu_1_,mu_2_,stde_1_,stde_2_))\n",
    "    \n",
    "# making histograms take time\n",
    "# https://stackoverflow.com/questions/44003552/matplotlib-histogram-from-numpy-histogram-output\n",
    "# but this doesn't seem to be faster"
   ]
  },
  {
   "cell_type": "code",
   "execution_count": 5,
   "metadata": {
    "scrolled": true
   },
   "outputs": [
    {
     "name": "stderr",
     "output_type": "stream",
     "text": [
      "/anaconda3/envs/dw/lib/python3.6/site-packages/matplotlib/axes/_axes.py:6462: UserWarning: The 'normed' kwarg is deprecated, and has been replaced by the 'density' kwarg.\n",
      "  warnings.warn(\"The 'normed' kwarg is deprecated, and has been \"\n"
     ]
    },
    {
     "data": {
      "image/png": "[encoded data removed]",
      "text/plain": [
       "<Figure size 1152x144 with 1 Axes>"
      ]
     },
     "metadata": {},
     "output_type": "display_data"
    },
    {
     "name": "stdout",
     "output_type": "stream",
     "text": [
      "pi = 0.5000, mu_1 = 0.0000, mu_2 = 3.0000, stde_1 = 0.5000, stde_2 = 1.0000\n"
     ]
    }
   ],
   "source": [
    "plot_hist_pdf(samples, pi_true, mu_1_true, mu_2_true, stde_1_true, stde_2_true)"
   ]
  },
  {
   "cell_type": "markdown",
   "metadata": {},
   "source": [
    "# Defining the log-likelihood <a class=\"anchor\" id=\"Defining negative log-likelihood\"></a>\n",
    "\n",
    "We want to maximise the likelihood of parameter vector $\\theta \\{p , \\mu_1, \\sigma_1, \\mu_2, \\sigma_2\\}$ with respect to observations $\\mathbf{X}$, ie $\\{x_1, x_2,....., x_n\\}$.\n",
    "\n",
    "\n",
    "$$P(\\mathbf{X} | \\theta) =\\prod_i \\left[ \n",
    "\\frac{1-p}{\\sigma_1\\sqrt{2 \\pi}} exp\\left({-\\frac{(x_i - \\mu_1)^2} {2 \\sigma_1^2}}\\right) \n",
    "+ \\frac{p}{\\sigma_2\\sqrt{2 \\pi}} exp\\left({-\\frac{(x_i - \\mu_2)^2} {2 \\sigma_2^2}}\\right) \n",
    "\\right] $$\n",
    "\n",
    "We hope to maximize the log likelihood:\n",
    "\n",
    "$$\\begin{align}\n",
    "\\ell(\\theta | \\mathbf{X}) &= \\log P(\\mathbf{X} | \\theta) \\\\\n",
    "&= \\sum_i log\\left[ \n",
    "\\frac{1-p}{\\sigma_1\\sqrt{2 \\pi}} exp\\left({-\\frac{(x_i - \\mu_1)^2} {2 \\sigma_1^2}}\\right)\n",
    "+ \\frac{p}{\\sigma_2\\sqrt{2 \\pi}} exp\\left({-\\frac{(x_i - \\mu_2)^2} {2 \\sigma_2^2}}\\right) \n",
    "\\right] \\\\\n",
    "&= \\sum_i log\\left( \n",
    "(1-p)\\phi_1 (x_i)\n",
    "+ (p)\\phi_2 (x_i)\\right)\n",
    "\\end{align}$$\n",
    "\n",
    "We now calculate log-likelihood w.r.t. ground truth for future reference."
   ]
  },
  {
   "cell_type": "code",
   "execution_count": 6,
   "metadata": {
    "scrolled": true
   },
   "outputs": [
    {
     "name": "stdout",
     "output_type": "stream",
     "text": [
      "nll_true = -1701.770310648646\n"
     ]
    }
   ],
   "source": [
    "global pi_\n",
    "pi_ = 0.5\n",
    "global stde_1_\n",
    "stde_1_ = stde_1_true\n",
    "global stde_2_\n",
    "stde_2_ = stde_2_true\n",
    "global samples\n",
    "global l_\n",
    "l_ = len(samples)\n",
    "\n",
    "def calc_nll(mu_1_, mu_2_):\n",
    "    return np.sum(\n",
    "            np.log(\n",
    "                (1-pi_)/(stde_1_*np.sqrt(2*np.pi))\n",
    "                  *np.exp(-np.power(np.add(samples,[-mu_1_]*l_),2))/(2*stde_1_**2)\n",
    "                + (pi_/(stde_2_*np.sqrt(2*np.pi)))\n",
    "                  *np.exp(-np.power(np.add(samples,[-mu_2_]*l_),2))/(2*stde_2_**2)))\n",
    "\n",
    "nll_true = calc_nll(mu_1_true, mu_2_true)\n",
    "\n",
    "print(\"nll_true = {}\".format(nll_true))"
   ]
  },
  {
   "cell_type": "code",
   "execution_count": 7,
   "metadata": {
    "scrolled": true
   },
   "outputs": [
    {
     "name": "stdout",
     "output_type": "stream",
     "text": [
      "-1634.83906221542 -32859.138813357145\n"
     ]
    },
    {
     "data": {
      "image/png": "[encoded data removed]",
      "text/plain": [
       "<Figure size 360x360 with 1 Axes>"
      ]
     },
     "metadata": {},
     "output_type": "display_data"
    }
   ],
   "source": [
    "import matplotlib.colors as colors\n",
    "import matplotlib.cm as cm\n",
    "import copy\n",
    "\n",
    "fig1 = plt.figure(figsize=(5,5))\n",
    "ax1 = fig1.add_subplot(111)\n",
    "\n",
    "calc_nll_ = np.vectorize(calc_nll)\n",
    "\n",
    "mu_1_plot_start, mu_1_plot_end, mu_2_plot_start, mu_2_plot_end = -2,7,-2,7\n",
    "extent=[mu_1_plot_start, mu_1_plot_end, mu_2_plot_end, mu_2_plot_start]\n",
    "\n",
    "mu_1_linspace = np.linspace(mu_1_plot_start, mu_1_plot_end, 100)\n",
    "mu_2_linspace = np.linspace(mu_2_plot_start, mu_2_plot_end, 100)\n",
    "\n",
    "mu_1_possible, mu_2_possible = np.meshgrid(mu_1_linspace, mu_2_linspace)\n",
    "\n",
    "nll_map = calc_nll_(mu_1_possible, mu_2_possible)\n",
    "vmax = np.max(nll_map)\n",
    "vmin = np.min(nll_map)\n",
    "print(vmax,vmin)\n",
    "ax1.imshow(nll_map,\n",
    "           extent = extent,\n",
    "           cmap=cm.gist_rainbow,\n",
    "           norm = colors.SymLogNorm(vmax=vmax, vmin=vmin, linthresh=1, clip=True))\n",
    "\n",
    "assert vmax < 0\n",
    "\n",
    "CS = plt.contour(nll_map,\n",
    "                extent = [mu_1_plot_start, mu_1_plot_end, mu_2_plot_start, mu_2_plot_end],\n",
    "                norm = colors.SymLogNorm(vmax=vmax, vmin=vmin, linthresh=1),\n",
    "                levels=[vmax*3., vmax*1.5, vmax*1.1]\n",
    "                )\n",
    "ax1.clabel(CS, inline=1, fontsize=10, fmt=\"%d\")\n",
    "plt.show()"
   ]
  },
  {
   "cell_type": "code",
   "execution_count": null,
   "metadata": {
    "scrolled": true
   },
   "outputs": [],
   "source": [
    "# mu_1_possible, mu_2_possible = np.meshgrid(mu_1_linspace,\n",
    "#                                            np.linspace(mu_2_true, mu_2_true, 1))\n",
    "\n",
    "# plt.plot(mu_1_linspace, calc_nll_(mu_1_linspace, mu_2_possible)[0])\n",
    "# plt.show()"
   ]
  },
  {
   "cell_type": "code",
   "execution_count": null,
   "metadata": {
    "scrolled": true
   },
   "outputs": [],
   "source": [
    "# mu_1_possible, mu_2_possible = np.meshgrid(np.linspace(mu_1_true, mu_1_true, 1),\n",
    "#                                            mu_2_linspace)\n",
    "\n",
    "# plt.plot(mu_2_linspace, calc_nll_(mu_2_linspace, mu_2_possible)[0])\n",
    "# plt.show()"
   ]
  },
  {
   "cell_type": "markdown",
   "metadata": {},
   "source": [
    "# EM algorithm <a class=\"anchor\" id=\"EM algorithm\"></a>"
   ]
  },
  {
   "cell_type": "markdown",
   "metadata": {},
   "source": [
    "## General Overview\n",
    "The direct maximisation of $\\ell(\\theta,\\mathbf{X})$ is made difficult because of the sum of terms inside the logarithm. Therefore we define a function $\\ell {\\left( \\theta\\right | \\mathbf{X}, \\mathbf{Z})}$ that is equal at $\\theta = \\theta_0$ but lower than $\\ell(\\theta | \\mathbf{X})$ everywhere else. The interpretation of the $\\mathbf{Z}$ is a vector of hidden variables taking values 0 or 1 that guesses which of $Y_1$ or $Y_2$ each sample $x$ comes from. If $z_i = 0$ then that sample $i$ comes from $Y_1$, if $z_i = 1$ then that sample $i$ comes from $Y_2$.\n",
    "\n",
    "If we are given a vector $\\mathbf{Z}$ of hidden variables $\\{ z_1, z_2, \\dots, z_n \\}$ that are binary values of 1 or 0, the expression becomes:\n",
    "\n",
    "$$\\begin{align}\n",
    "\\log P(\\mathbf{X} | \\theta, \\mathbf{Z}) &= \\ell(\\theta, \\mathbf{Z} | \\mathbf{X}) \\\\ \n",
    "&= \\sum_i log\\left( \n",
    "\\frac{1- z_i}{\\sigma_1\\sqrt{2 \\pi}} exp\\left({-\\frac{(x_i - \\mu_1)^2} {2 \\sigma_1^2}}\\right) \n",
    "+ \\frac{z_i}{\\sigma_2\\sqrt{2 \\pi}} exp\\left({-\\frac{(x_i - \\mu_2)^2} {2 \\sigma_2^2}}\\right) \n",
    "\\right)\n",
    "\\end{align}$$\n",
    "\n",
    "Practically speaking, this then becomes the addition of the log likelihoods of exactly two different distributions, as we now are guessing exactly which distribution each sample comes from."
   ]
  },
  {
   "cell_type": "code",
   "execution_count": 9,
   "metadata": {
    "scrolled": true
   },
   "outputs": [],
   "source": [
    "## we have arbitrary starting points which we will elaborate later\n",
    "pi, mu_1, stde_1, mu_2, stde_2 = 0.5, 5, stde_1_true, 1.2, stde_2_true"
   ]
  },
  {
   "cell_type": "markdown",
   "metadata": {},
   "source": [
    "## Expectation Step <a class=\"anchor\" id=\"Expectation Step\"></a>\n",
    "\n",
    "Interpretation for responsibility $\\gamma_i$: given current model $\\theta$, $\\gamma_i$ is the probability that the sample belongs to $\\phi_2$ rather than $\\phi_1$. It can also be interpreted as an approximation for $z$, as the closer $\\gamma_i$ is to 1, the more likely $z$ is 1.\n",
    "\n",
    "$$\\gamma_i(\\theta) = E\\left(z_i | \\theta, \\mathbf{X}\\right) = P\\left(z_i = 1 | \\theta, \\mathbf{X}\\right) $$\n",
    "\n",
    "$$ \\gamma_i(\\theta) = \\frac{p \\phi_{2} (x_i)} \n",
    "{(1 - p) \\phi_{1} ( x_i ) + p \\phi_{2} ( x_i )} $$"
   ]
  },
  {
   "cell_type": "code",
   "execution_count": 10,
   "metadata": {
    "scrolled": true
   },
   "outputs": [
    {
     "name": "stdout",
     "output_type": "stream",
     "text": [
      "[0.995 0.998 1.    1.    1.    1.    1.    1.    0.999 1.    0.111 0.001\n",
      " 1.    1.    1.    1.    1.    1.    1.    0.771 1.    0.999 1.    1.\n",
      " 0.453 1.    1.    1.    1.    1.   ]\n"
     ]
    }
   ],
   "source": [
    "def expectation_step(pi,mu_1,mu_2,stde_1,stde_2,samples):\n",
    "    odds_Y1 = [((1-pi)/(stde_1*np.sqrt(2*np.pi))) \n",
    "                * np.exp(-(np.add(samples,[-mu_1]*l))**2. / (2. * stde_1**2))]\n",
    "    odds_Y2 = [((pi)/(stde_2*np.sqrt(2*np.pi))) \n",
    "                * np.exp(-(np.add(samples,[-mu_2]*l))**2. / (2. * stde_2**2))]\n",
    "    gamma_i = np.divide(odds_Y2,np.add(odds_Y1,odds_Y2))\n",
    "    return gamma_i[0]\n",
    "\n",
    "global gamma_i\n",
    "gamma_i = expectation_step(pi,mu_1,mu_2,stde_1,stde_2,samples)\n",
    "print(np.round(gamma_i[:30],3))  # the gamma values of some of the samples"
   ]
  },
  {
   "cell_type": "markdown",
   "metadata": {},
   "source": [
    "### Insertion of Hidden Variables\n",
    "We first observe that we can insert the hidden variables $z$ through the law of total probability.\n",
    "\n",
    "$$\n",
    "\\begin{align} \n",
    "\\log P(\\mathbf{X} | \\theta) &= \\sum_i log P(x_i| \\theta)   \\\\\n",
    "&= \\sum_i log\\left(\\sum_z P(x_i|z,\\theta)P(z|\\theta)\\right) \\\\\n",
    "&= \\sum_i log\\left( P(x_i|z =0,\\theta)P(z=0|\\theta) + P(x_i|z =1,\\theta)P(z=1|\\theta)\\right)\\\\\n",
    "\\end{align}$$\n",
    "\n",
    "\n",
    "This corresponds to\n",
    "$$\n",
    "\\begin{align} \n",
    "\\log P(\\mathbf{X} | \\theta) &= \\sum_i log\\left( \\sum_z \\left(\n",
    "\\frac{1- z}{\\sigma_1\\sqrt{2 \\pi}} exp\\left({-\\frac{(x_i - \\mu_1)^2} {2 \\sigma_1^2}}\\right) \n",
    "+ \\frac{z}{\\sigma_2\\sqrt{2 \\pi}} exp\\left({-\\frac{(x_i - \\mu_2)^2} {2 \\sigma_2^2}}\\right) \\right) \\cdot P(z|\\theta)\n",
    "\\right) \\\\\n",
    "&= \\sum_i log\\left( \\left(\n",
    "\\frac{1- 0}{\\sigma_1\\sqrt{2 \\pi}} exp\\left({-\\frac{(x_i - \\mu_1)^2} {2 \\sigma_1^2}}\\right)\\right)\\cdot P(z= 0) \n",
    "+ \\left(\\frac{1}{\\sigma_2\\sqrt{2 \\pi}} exp\\left({-\\frac{(x_i - \\mu_2)^2} {2 \\sigma_2^2}}\\right) \\cdot P(z=1) \\right)\n",
    "\\right) \\\\ \n",
    "&= \\sum_i log\\left( \n",
    "\\frac{(1-p)}{\\sigma_1\\sqrt{2 \\pi}} exp\\left({-\\frac{(x_i - \\mu_1)^2} {2 \\sigma_1^2}}\\right) \n",
    "+ \\frac{(p)}{\\sigma_2\\sqrt{2 \\pi}} exp\\left({-\\frac{(x_i - \\mu_2)^2} {2 \\sigma_2^2}}\\right)\n",
    "\\right) \\\\\n",
    "&= \\sum_i log\\left( \n",
    "(1-p)\\phi_1 (x_i)\n",
    "+ (p)\\phi_2 (x_i)\\right)\n",
    "\\end{align}$$\n",
    "\n",
    "% I don't know if '\\{multiline}' work in LaTeX.\n",
    "% I think we need to use different types of parentheses.\n",
    "% This is markdown not LaTeX, so these comments are still visible\n",
    "\n",
    "This simplification shows us that the insertion of the hidden variables stil makes the expression mathematically equal to our $\\log P(\\mathbf{X} | \\theta)$ expression at first."
   ]
  },
  {
   "cell_type": "markdown",
   "metadata": {},
   "source": [
    "### Derivation of $log P(\\mathbf{X} | \\mathbf{Z}, \\theta)$\n",
    "\n",
    "The form of $log P(\\mathbf{X},\\mathbf{Z} | \\theta)$ is required in the Expectation step. It has been derived in the EM tutorial (and will be derived later) and is needed to find the next iteration of $\\theta$. Hence, we want to find the form of $log P(\\mathbf{X},\\mathbf{Z} | \\theta)$.\n",
    "\n",
    "$$\n",
    "\\begin{align} \n",
    "\\log P(\\mathbf{X} ,\\mathbf{Z} | \\theta) &= \\sum_i log P(x_i, z_i| \\theta)   \\\\\n",
    "&= \\sum_i log\\left( P(x_i|z_i,\\theta)P(z_i|\\theta)\\right) \\\\\n",
    "\\end{align}$$\n",
    "\n",
    "We observe that $P(z_i|\\theta)$ refers to simply $(1-p)$ when $p=0$ or $p$ when $p = 1$. \n",
    "\n",
    "$$\n",
    "\\begin{align} \n",
    "\\log P(\\mathbf{X} ,\\mathbf{Z}| \\theta) &= \\sum_i log \\left(\n",
    "\\left(\\frac{1- z_i}{\\sigma_1\\sqrt{2 \\pi}} exp\\left({-\\frac{(x_i - \\mu_1)^2} {2 \\sigma_1^2}}\\right)\\cdot (1-p)\\right) \n",
    "+ \\left(\\frac{z_i}{\\sigma_2\\sqrt{2 \\pi}} exp\\left({-\\frac{(x_i - \\mu_2)^2} {2 \\sigma_2^2}}\\right)\\cdot(p)\\right)\n",
    "\\right) \\\\\n",
    "&= \\sum_i log\\left( \n",
    "\\frac{(1- z_i)(1-p)}{\\sigma_1\\sqrt{2 \\pi}} exp\\left({-\\frac{(x_i - \\mu_1)^2} {2 \\sigma_1^2}}\\right) \n",
    "+ \\frac{(z_i)(p)}{\\sigma_2\\sqrt{2 \\pi}} exp\\left({-\\frac{(x_i - \\mu_2)^2} {2 \\sigma_2^2}}\\right)\n",
    "\\right)\\\\\n",
    "&= \\sum_i \\left( (1- z_i)log\\left(\n",
    "\\frac{(1-p)}{\\sigma_1\\sqrt{2 \\pi}} exp\\left({-\\frac{(x_i - \\mu_1)^2} {2 \\sigma_1^2}}\\right) \\right)\n",
    "+ (z_i)log\\left(\\frac{(p)}{\\sigma_2\\sqrt{2 \\pi}} exp\\left({-\\frac{(x_i - \\mu_2)^2} {2 \\sigma_2^2}}\\right)\\right)\n",
    "\\right) \\\\\n",
    "&= \\sum_i (1-z_i)log\\left( \n",
    "(1-p)\\phi_1 (x_i)\\right)\n",
    "+ (z_i)log\\left( (p)\\phi_2 (x_i)\\right)\n",
    "\\end{align}$$\n",
    "\n",
    "The second last step, which involves taking the indicator variables $(1- z_i)$ or $(z_i)$ outside the logarithm terms, holds as the expansion of the terms are equal. i.e $ log(0\\cdot x + y) = 0\\cdot log(x) + log(y)$"
   ]
  },
  {
   "cell_type": "markdown",
   "metadata": {},
   "source": [
    "## Maximisation Step <a class=\"anchor\" id=\"Maximisation Step\"></a>\n",
    "From the tutorial, at the nth iteration with estimated parameters $\\theta_{n}$, we can find the n+1 iteration of parameters $\\theta_{n+1}$ through maximizing $\\sum_{i=1}^N P(z_i|x_i,\\theta_n)log P(x_i, z_i|\\theta)$ with respect to $\\theta$, proven through Jensen's Inequality.\n"
   ]
  },
  {
   "cell_type": "markdown",
   "metadata": {},
   "source": [
    "### Deriving $\\theta_{n+1}$\n",
    "\n",
    "From the EM tutorial, we see a way of iteration is to find a $\\theta_{n+1}$ with respect to $\\theta$ such that:\n",
    "\n",
    "$$\n",
    "\\begin{align} \n",
    "\\theta_{n+1} = argmax \\left(\\sum_i P(z_i|x_i, \\theta_n)\\cdot log P(x_i,z_i |\\theta) \\right) \\\\\n",
    "\\end{align}$$\n",
    "\n",
    "The expression for $log P(x,z |\\theta)$ has been found above. We can think of $P(z|X, \\theta_n)$ as the responsibility, $\\gamma$. \n",
    "\n",
    "Interpretation for $\\gamma_i$: given current model $\\theta_n$, $\\gamma_i$ is the probability that the $i$th sample belongs to $Y_2$ rather than $Y_1$. In Pattern Theory, ${\\gamma}_i$ is analgous to $L_i$.\n",
    "\n",
    "$$\\gamma_i(\\theta_n) =\\gamma_{i,n} = E\\left(z_i | \\theta_n, \\mathbf{X}\\right) = P\\left(z_i = 1 | \\theta_n, \\mathbf{X}\\right) $$\n",
    "\n",
    "$$ \\gamma_{i,n} = \\frac{p_n \\phi_{2,n} ( x_i )}{(1 - p_n) \\phi_{1,n} ( x_i ) + p_n \\phi_{2,n} ( x_i )} $$\n",
    "\n",
    "Combining both the expressions we have found above and the responsibilities, we get:\n",
    "\n",
    "$$\n",
    "\\begin{align} \n",
    "\\theta_{n+1} \n",
    "&= argmax \\left(\\sum_i P(z_i|x_i,\\theta_n)\\cdot log P(x_i, z_i|\\theta)\\right) \\\\\n",
    "&= argmax \\left(\\sum_i P(z_i = 0|x_i,\\theta_n) \\cdot log P(x_i|\\theta, z_i =0) +  P(z_i = 1|x_i,\\theta_n)\\cdot log P(x_i|\\theta, z_i =1) \\right) \\\\\n",
    "&= argmax \\left(\\sum_i \\gamma_{i,n} \\cdot log(p \\cdot \\phi_{2}(x_i)) + (1 -\\gamma_{i,n}) \\cdot log((1-p) \\cdot \\phi_{1}(x_i)) \\right) \\\\\n",
    "&= argmax \\left(\\sum_i \\frac{p_n \\phi_{2,n} ( x_i )}{(1 - p_n) \\phi_{1,n} ( x_i ) + p_n \\phi_{2,n} ( x_i )} \\cdot log(p \\cdot \\phi_{2}(x_i)) \n",
    "+ \\left(1 -\\frac{p_n \\phi_{2,n} ( x_i )}{(1 - p_n) \\phi_{1,n} ( x_i ) + p_n \\phi_{2,n} ( x_i )} \\right) \\cdot log((1-p) \\cdot \\phi_{1}(x_i)) \\right) \\\\\n",
    "\\end{align}$$\n",
    "\n"
   ]
  },
  {
   "cell_type": "code",
   "execution_count": null,
   "metadata": {
    "scrolled": true
   },
   "outputs": [],
   "source": [
    "def nll_lower_(mu_1,mu_2):\n",
    "    odds_Y1 = [((1-pi)/(stde_1*np.sqrt(2.*np.pi))) \n",
    "                * np.exp(-(np.add(samples,[-mu_1]*l))**2. / (2. * stde_1**2))]\n",
    "    odds_Y2 = [((pi)/(stde_2*np.sqrt(2.*np.pi))) \n",
    "                * np.exp(-(np.add(samples,[-mu_2]*l))**2. / (2. * stde_2**2))]\n",
    "    return np.sum(np.add(np.multiply(gamma_i,np.log(odds_Y2)),\n",
    "                          np.multiply(1-gamma_i,np.log(odds_Y1))))\n",
    "\n",
    "nll_lower = np.vectorize(nll_lower_)\n",
    "global nll_lower_map\n",
    "nll_lower_map = nll_lower(mu_1_possible, mu_2_possible)"
   ]
  },
  {
   "cell_type": "code",
   "execution_count": 11,
   "metadata": {
    "scrolled": false
   },
   "outputs": [],
   "source": [
    "def plot_ell_compare(nll_lower_map, nll_map):\n",
    "    \n",
    "    mu_1_plot_start, mu_1_plot_end, mu_2_plot_start, mu_2_plot_end = -2,7,-2,7\n",
    "    mu_1_linspace = np.linspace(mu_1_plot_start, mu_1_plot_end, 100)\n",
    "    mu_2_linspace = np.linspace(mu_2_plot_start, mu_2_plot_end, 100)\n",
    "    mu_1_possible, mu_2_possible = np.meshgrid(mu_1_linspace, mu_2_linspace)\n",
    "    extent=[mu_1_plot_start, mu_1_plot_end, mu_2_plot_end, mu_2_plot_start]\n",
    "    \n",
    "    fig1 = plt.figure(figsize=(10,10))\n",
    "    ax1 = fig1.add_subplot(121)\n",
    "    ax1.imshow(nll_lower_map,\n",
    "               extent = extent,\n",
    "               cmap=cm.gist_rainbow,\n",
    "               norm = colors.SymLogNorm(vmax=vmax, vmin=vmin, linthresh=1, clip=True)\n",
    "              )\n",
    "    CS = ax1.contour(nll_lower_map,\n",
    "           extent = [mu_1_plot_start, mu_1_plot_end, mu_2_plot_start, mu_2_plot_end],\n",
    "           norm = colors.SymLogNorm(vmax=vmax, vmin=vmin, linthresh=1, clip=True),\n",
    "                    levels=[vmax*8.8, vmax*4.4, vmax*2.2, vmax*1.1, vmax*1.01]\n",
    "                    )\n",
    "    \n",
    "#     ax1.axvline(x=mu_1_true, linewidth=2, color='k', linestyle='dotted')\n",
    "#     ax1.axhline(y=mu_2_true, linewidth=2, color='k', linestyle='dotted')\n",
    "    ax1.clabel(CS, inline=1, fontsize=10, fmt=\"%d\")\n",
    "    ax1.set_xlabel(\"$\\mu_1$\")\n",
    "    ax1.set_ylabel(\"$\\mu_2$\")\n",
    "    ax1.set_title(\"nll_lower\")\n",
    "#     ax1.scatter(mu_1,mu_2,color=\"white\")\n",
    "\n",
    "    ax2 = fig1.add_subplot(122)\n",
    "    ax2.imshow(nll_map,\n",
    "           extent = extent,\n",
    "           cmap=cm.gist_rainbow,\n",
    "           norm = colors.SymLogNorm(vmax=vmax, vmin=vmin, linthresh=1, clip=True)\n",
    "    # norm=colors.LogNorm(vmin=nll_map.min(), vmax=nll_map.max())\n",
    "          )\n",
    "\n",
    "    CS = plt.contour(nll_map,\n",
    "           extent = [mu_1_plot_start, mu_1_plot_end, mu_2_plot_start, mu_2_plot_end],\n",
    "                     norm = colors.SymLogNorm(vmax=vmax, vmin=vmin, linthresh=1, clip=True),\n",
    "                     levels=[vmax*8.8, vmax*4.4, vmax*2.2, vmax*1.1, vmax*1.01]\n",
    "                    )\n",
    "    ax2.clabel(CS, inline=1, fontsize=10, fmt=\"%d\")\n",
    "    ax2.set_xlabel(\"$\\mu_1$\")\n",
    "    ax2.set_ylabel(\"$\\mu_2$\")\n",
    "    ax2.set_title(\"nll\")\n",
    "    plt.show()"
   ]
  },
  {
   "cell_type": "code",
   "execution_count": 42,
   "metadata": {
    "scrolled": false
   },
   "outputs": [
    {
     "name": "stdout",
     "output_type": "stream",
     "text": [
      "[0.995 0.998 1.    1.    1.    1.    1.    1.    0.999 1.    0.111 0.001\n",
      " 1.    1.    1.    1.    1.    1.    1.    0.771 1.    0.999 1.    1.\n",
      " 0.453 1.    1.    1.    1.    1.   ]\n"
     ]
    },
    {
     "name": "stderr",
     "output_type": "stream",
     "text": [
      "/anaconda3/envs/dw/lib/python3.6/site-packages/matplotlib/colors.py:504: RuntimeWarning: invalid value encountered in less\n",
      "  xa[xa < 0] = -1\n",
      "/anaconda3/envs/dw/lib/python3.6/site-packages/numpy/core/_methods.py:29: RuntimeWarning: invalid value encountered in reduce\n",
      "  return umr_minimum(a, axis, None, out, keepdims)\n"
     ]
    },
    {
     "name": "stdout",
     "output_type": "stream",
     "text": [
      "0.5 1.1260683760683763 3 0.5 1.0\n",
      "[0.999 0.998 0.993 0.095 0.237 0.206 0.052 0.06  0.993 0.048 1.    1.\n",
      " 0.063 0.114 0.165 0.067 0.048 0.082 0.597 1.    0.086 0.994 0.255 0.876\n",
      " 1.    0.134 0.984 0.065 0.071 0.067]\n",
      "[[-13265.65822563 -12857.482397   -12465.98771978]\n",
      " [-13050.2456184  -12642.06978978 -12250.57511256]\n",
      " [-12838.92718613 -12430.75135751 -12039.25668029]]\n",
      "True\n",
      "0.5 1.1260683760683763 1.387820512820513 0.5 1.0\n",
      "[0.995 0.992 0.981 0.837 0.441 0.956 0.581 0.666 0.982 0.367 1.    1.\n",
      " 0.688 0.348 0.935 0.719 0.514 0.793 0.665 1.    0.808 0.983 0.971 0.851\n",
      " 1.    0.908 0.965 0.703 0.743 0.323]\n",
      "[[-11655.76721925 -11454.37301489 -11259.8332837 ]\n",
      " [-11388.65920595 -11187.26500159 -10992.72527041]\n",
      " [-11128.10203718 -10926.70783282 -10732.16810163]]\n",
      "delet this\n",
      "True\n",
      "0.5 2.1626068376068375 1.387820512820513 0.5 1.0\n",
      "[0.376 0.34  0.295 1.    0.469 1.    0.998 0.999 0.297 0.969 0.908 1.\n",
      " 0.999 0.679 1.    1.    0.996 1.    0.301 0.653 1.    0.3   1.    0.254\n",
      " 0.775 1.    0.27  1.    1.    0.867]\n",
      "[[-16649.65973758 -16266.17027424 -15890.35047479]\n",
      " [-16428.07553903 -16044.5860757  -15668.76627624]\n",
      " [-16212.83838732 -15829.34892399 -15453.52912453]]\n",
      "delet this\n",
      "True\n",
      "0.5 1.230769230769231 1.387820512820513 0.5 1.0\n",
      "[0.989 0.983 0.963 0.902 0.396 0.978 0.676 0.761 0.965 0.416 1.    1.\n",
      " 0.781 0.336 0.966 0.809 0.603 0.869 0.583 0.999 0.881 0.966 0.986 0.78\n",
      " 1.    0.95  0.936 0.794 0.829 0.339]\n",
      "[[-11760.99639044 -11565.57874887 -11376.37099857]\n",
      " [-11492.39423645 -11296.97659488 -11107.76884458]\n",
      " [-11230.50407245 -11035.08643088 -10845.87868058]]\n",
      "delet this\n",
      "True\n",
      "0.5 0.5292735042735044 1.387820512820513 0.5 1.0\n",
      "[1.    1.    1.    0.297 0.838 0.445 0.235 0.243 1.    0.29  1.    1.\n",
      " 0.247 0.629 0.396 0.253 0.235 0.276 0.971 1.    0.282 1.    0.498 0.995\n",
      " 1.    0.355 1.    0.25  0.259 0.428]\n",
      "[[-11536.44902938 -11276.22616116 -11027.46169874]\n",
      " [-11284.04818205 -11023.82531383 -10775.06085141]\n",
      " [-11037.04719608 -10776.82432786 -10528.05986544]]\n",
      "delet this\n",
      "True\n",
      "0.5 0.5292735042735044 2.1311965811965816 0.5 1.0\n",
      "[1.    1.    1.    0.088 0.823 0.125 0.088 0.083 1.    0.155 1.    1.\n",
      " 0.083 0.549 0.111 0.083 0.095 0.085 0.976 1.    0.086 1.    0.143 0.997\n",
      " 1.    0.101 1.    0.083 0.083 0.301]\n",
      "[[-12031.32506202 -11703.77670879 -11391.10579844]\n",
      " [-11795.75558595 -11468.20723271 -11155.53632236]\n",
      " [-11564.73121196 -11237.18285873 -10924.51194838]]\n",
      "delet this\n",
      "True\n"
     ]
    }
   ],
   "source": [
    "%matplotlib qt\n",
    "import numpy as np\n",
    "import matplotlib.pyplot as plt\n",
    "from matplotlib.widgets import Slider, Button, RadioButtons\n",
    "from mpl_toolkits.mplot3d import Axes3D\n",
    "from matplotlib.ticker import LinearLocator, FormatStrFormatter\n",
    "import copy\n",
    "\n",
    "\n",
    "# fig, ax = plt.subplots()\n",
    "# plt.subplots_adjust(left=0.25, bottom=0.25)\n",
    "# t = np.arange(0.0, 1.0, 0.001)\n",
    "a0 = 5\n",
    "f0 = 3\n",
    "delta_f = 5.0\n",
    "# s = a0*np.sin(2*np.pi*f0*t)\n",
    "# l, = plt.plot(t, s, lw=2, color='red')\n",
    "# plt.axis([0, 1, -10, 10])\n",
    "\n",
    "\n",
    "mu_1_plot_start, mu_1_plot_end, mu_2_plot_start, mu_2_plot_end = -2,7,-2,7\n",
    "mu_1_linspace = np.linspace(mu_1_plot_start, mu_1_plot_end, 100)\n",
    "mu_2_linspace = np.linspace(mu_2_plot_start, mu_2_plot_end, 100)\n",
    "mu_1_possible, mu_2_possible = np.meshgrid(mu_1_linspace, mu_2_linspace)\n",
    "extent=[mu_1_plot_start, mu_1_plot_end, mu_2_plot_end, mu_2_plot_start]\n",
    "\n",
    "fig = plt.figure(figsize=(10,10))\n",
    "ax = fig.gca(projection='3d')\n",
    "nll_map_ = copy.deepcopy(nll_map)\n",
    "nll_map_[nll_map_<-5000.] = np.nan\n",
    "global surf\n",
    "\n",
    "\n",
    "surf = ax.plot_surface(mu_1_possible, mu_2_possible, nll_map_,\n",
    "                cmap=cm.gist_rainbow,\n",
    "                vmin=3.*vmax,\n",
    "                vmax=vmax)\n",
    "# global wire\n",
    "# wire = ax.plot_wireframe(mu_1_possible, mu_2_possible, nll_lower_map)\n",
    "# wire.remove()\n",
    "\n",
    "\n",
    "ax.view_init(-3, 210)\n",
    "ax.set_zlim3d(vmax*4., 0)\n",
    "ax.zaxis.set_major_locator(LinearLocator(10))\n",
    "ax.zaxis.set_major_formatter(FormatStrFormatter('%d'))\n",
    "\n",
    "\n",
    "axcolor = 'lightgoldenrodyellow'\n",
    "axfreq = plt.axes([0.25, 0.1, 0.65, 0.03], facecolor=axcolor)\n",
    "axamp = plt.axes([0.25, 0.15, 0.65, 0.03], facecolor=axcolor)\n",
    "\n",
    "sfreq = Slider(axfreq, 'Freq', 0.1, 5.0, valinit=f0)\n",
    "samp = Slider(axamp, 'Amp', 0.1, 5.0, valinit=a0)\n",
    "\n",
    "\n",
    "print(np.round(gamma_i[:30],3))  # the gamma values of some of the samples\n",
    "# print(nll_lower_map)\n",
    "\n",
    "\n",
    "def update(val):\n",
    "    \n",
    "    mu_1_plot_start, mu_1_plot_end, mu_2_plot_start, mu_2_plot_end = -2,7,-2,7\n",
    "    mu_1_linspace = np.linspace(mu_1_plot_start, mu_1_plot_end, 100)\n",
    "    mu_2_linspace = np.linspace(mu_2_plot_start, mu_2_plot_end, 100)\n",
    "    mu_1_possible, mu_2_possible = np.meshgrid(mu_1_linspace, mu_2_linspace)\n",
    "\n",
    "    mu_1 = samp.val\n",
    "    mu_2 = sfreq.val\n",
    "    print(pi,mu_1,mu_2,stde_1,stde_2)\n",
    "    gamma_i = expectation_step(pi,mu_1,mu_2,stde_1,stde_2,samples)\n",
    "    print(np.round(gamma_i[:30],3))  # the gamma values of some of the samples\n",
    "\n",
    "    def nll_lower_(mu_1,mu_2):\n",
    "        odds_Y1 = [((1-pi)/(stde_1*np.sqrt(2.*np.pi))) \n",
    "                    * np.exp(-(np.add(samples,[-mu_1]*l))**2. / (2. * stde_1**2))]\n",
    "        odds_Y2 = [((pi)/(stde_2*np.sqrt(2.*np.pi))) \n",
    "                    * np.exp(-(np.add(samples,[-mu_2]*l))**2. / (2. * stde_2**2))]\n",
    "        return np.sum(np.add(np.multiply(gamma_i,np.log(odds_Y2)),\n",
    "                              np.multiply(1-gamma_i,np.log(odds_Y1))))\n",
    "\n",
    "    nll_lower = np.vectorize(nll_lower_)\n",
    "    nll_lower_map_ = nll_lower(mu_1_possible, mu_2_possible)\n",
    "    print(nll_lower_map_[0:3,0:3])\n",
    "#     nll_lower_map_ == nll_lower_map\n",
    "#     wire.remove()\n",
    "#     global wire\n",
    "#     print(mu_1_possible, mu_2_possible)\n",
    "#     print(np.shape(nll_lower_map))\n",
    "#     del wire\n",
    "\n",
    "#     print(locals())\n",
    "#     print(globals())\n",
    "\n",
    "    if len(list(ax.collections)) > 1:\n",
    "        print(\"delet this\")\n",
    "        ax.collections.remove(list(ax.collections)[-1])\n",
    "        \n",
    "    wire = ax.plot_wireframe(mu_1_possible, mu_2_possible, nll_lower_map_)\n",
    "#     ax.collections.remove(wire)\n",
    "    print('wire' in locals())\n",
    "    fig.canvas.draw()\n",
    "    \n",
    "sfreq.on_changed(update)\n",
    "samp.on_changed(update)\n",
    "\n",
    "resetax = plt.axes([0.8, 0.025, 0.1, 0.04])\n",
    "button = Button(resetax, 'Reset', color=axcolor, hovercolor='0.975')\n",
    "\n",
    "def reset(event):\n",
    "    sfreq.reset()\n",
    "    samp.reset()\n",
    "button.on_clicked(reset)\n",
    "\n",
    "# rax = plt.axes([0.025, 0.5, 0.15, 0.15], facecolor=axcolor)\n",
    "# radio = RadioButtons(rax, ('red', 'blue', 'green'), active=0)\n",
    "\n",
    "# def colorfunc(label):\n",
    "#     l.set_color(label)\n",
    "#     fig.canvas.draw_idle()\n",
    "# radio.on_clicked(colorfunc)\n",
    "\n",
    "plt.show()"
   ]
  },
  {
   "cell_type": "code",
   "execution_count": 36,
   "metadata": {},
   "outputs": [
    {
     "name": "stdout",
     "output_type": "stream",
     "text": [
      "2.2.2\r\n"
     ]
    }
   ],
   "source": [
    "!python -c 'import matplotlib; print(matplotlib.__version__)'"
   ]
  },
  {
   "cell_type": "code",
   "execution_count": null,
   "metadata": {},
   "outputs": [],
   "source": [
    "%matplotlib inline\n",
    "plot_ell_compare(nll_lower_map, nll_map)"
   ]
  },
  {
   "cell_type": "code",
   "execution_count": null,
   "metadata": {
    "scrolled": false
   },
   "outputs": [],
   "source": [
    "from mpl_toolkits.mplot3d import Axes3D\n",
    "from matplotlib.ticker import LinearLocator, FormatStrFormatter\n",
    "import copy\n",
    "\n",
    "# %matplotlib qt\n",
    "def plot_ell_compare3d(nll_lower_map, nll_map):\n",
    "    mu_1_plot_start, mu_1_plot_end, mu_2_plot_start, mu_2_plot_end = -2,7,-2,7\n",
    "    mu_1_linspace = np.linspace(mu_1_plot_start, mu_1_plot_end, 100)\n",
    "    mu_2_linspace = np.linspace(mu_2_plot_start, mu_2_plot_end, 100)\n",
    "    mu_1_possible, mu_2_possible = np.meshgrid(mu_1_linspace, mu_2_linspace)\n",
    "    extent=[mu_1_plot_start, mu_1_plot_end, mu_2_plot_end, mu_2_plot_start]\n",
    "    \n",
    "    fig = plt.figure(figsize=(10,10))\n",
    "    ax = fig.gca(projection='3d')\n",
    "#     nll_map_ = np.ma.array(nll_map, mask=(nll_map<2.*vmax))\n",
    "    nll_map_ = copy.deepcopy(nll_map)\n",
    "    nll_map_[nll_map_<-5000.] = np.nan\n",
    "    ax.plot_surface(mu_1_possible, mu_2_possible, nll_map_,\n",
    "                    cmap=cm.gist_rainbow,\n",
    "                    vmin=3.*vmax,\n",
    "                    vmax=vmax)\n",
    "    ax.plot_wireframe(mu_1_possible, mu_2_possible, nll_lower_map)\n",
    "\n",
    "    ax.view_init(-3, 210)\n",
    "    ax.set_zlim3d(vmax*4., 0)\n",
    "    ax.zaxis.set_major_locator(LinearLocator(10))\n",
    "    ax.zaxis.set_major_formatter(FormatStrFormatter('%d'))\n",
    "    plt.show()"
   ]
  },
  {
   "cell_type": "code",
   "execution_count": null,
   "metadata": {
    "scrolled": false
   },
   "outputs": [],
   "source": [
    "%matplotlib inline\n",
    "plot_ell_compare3d(nll_lower_map, nll_map)"
   ]
  },
  {
   "cell_type": "markdown",
   "metadata": {},
   "source": [
    "## Solutions for $\\theta_{n+1}$\n",
    "To find $\\theta_{n+1}$, we set $\\frac{\\partial}{\\partial \\theta} \\left(\\sum_i \\gamma_{i,n} \\cdot log(p \\cdot \\phi_{2}(x_i)) + (1 -\\gamma_{i,n}) \\cdot log((1-p) \\cdot \\phi_{1}(x_i)) \\right)=0$\n",
    "\n",
    "\n",
    "\n",
    "We first find the expression of $\\mu_{2,n+1}$, which is the $\\mu_2$ that fulfills the equation above.\n",
    "$$\n",
    "\\begin{align}\n",
    "\\frac{\\partial}{\\partial \\mu_{2}} \\left(\\sum_i \\gamma_{i,n} \\cdot log(p_n \\cdot \\phi_{2}(x_i)) + (1 -\\gamma_{i,n}) \\cdot log((1-p) \\cdot \\phi_{1}(x_i)) \\right) &=0 \\\\\n",
    "\\frac{\\partial}{\\partial \\mu_{2}} \\left(\\sum_i \\gamma_{i,n} \\cdot log(p_n \\cdot \\phi_{2}(x_i)) \\right)&=0 \\\\\n",
    "\\frac{\\partial}{\\partial \\mu_{2}} \\left(\\sum_i \\gamma_{i,n} \\cdot log(\\frac{p_n}{\\sigma_{2,n} \\sqrt{2 \\pi}} \\cdot exp \\left( -\\frac{(x_i - \\mu_{2})^2} {2 \\sigma_{2,n}^2} \\right)) \\right)&=0 \\\\\n",
    "\\sum_i \\gamma_{i,n} \\cdot \\frac{x_i - \\mu_2}{\\sigma_{2,n}^2} &=0 \\\\\n",
    "\\mu_2 = \\frac{\\sum_i \\gamma_{i,n} \\cdot x_i}{\\sum_i \\gamma_{i,n}}   \\\\\n",
    "\\end{align}$$\n",
    "\n",
    "We then find $\\sigma_{2,n+1}$.\n",
    "$$\n",
    "\\begin{align}\n",
    "\\frac{\\partial}{\\partial \\sigma_{2}} \\left(\\sum_i \\gamma_{i,n} \\cdot log(p_n \\cdot \\phi_{2}(x_i)) + (1 -\\gamma_{i,n}) \\cdot log((1-p_n) \\cdot \\phi_{1}(x_i)) \\right) &=0 \\\\\n",
    "\\frac{\\partial}{\\partial \\sigma_{2}} \\left(\\sum_i \\gamma_{i,n} \\cdot log(p_n \\cdot \\phi_{2}(x_i)) \\right)&=0 \\\\\n",
    "\\frac{\\partial}{\\partial \\sigma_{2}} \\left(\\sum_i \\gamma_{i,n} \\cdot log(\\frac{p_n}{\\sigma_{2} \\sqrt{2 \\pi}} \\cdot exp ( -\\frac{(x_i - \\mu_{2,n})^2} {2 \\sigma_{2}^2} ) \\right)&=0 \\\\\n",
    "\\sum_i \\gamma_{i,n} \\cdot \\left(-\\frac{1}{\\sigma_2} +\\frac{(x_i-\\mu_{2,n})^2}{\\sigma_{2}^3}  \\right) &=0 \\\\\n",
    "\\sum_i \\gamma_{i,n} \\cdot \\left(\\frac{(x_i-\\mu_{2,n})^2-\\sigma_{2}^2}{\\sigma_{2}^3}  \\right) &=0 \\\\\n",
    "\\sum_i \\gamma_{i,n} \\cdot (x_i-\\mu_{2,n})^2 &= \\sum_i \\gamma_{i,n} \\cdot \\sigma_{2}^2 \\\\\n",
    "\\sigma_{2} &= \\frac{\\sum_{i=1} \\gamma_{i,n} (x_i - \\mu_{2,n})^2}{\\sum_{i=1} \\gamma_{i,n}}  \\\\\n",
    "\\end{align}$$\n",
    "\n",
    "We then find $p_{n+1}$.\n",
    "$$\n",
    "\\begin{align}\n",
    "\\frac{\\partial}{\\partial p} \\left(\\sum_i \\gamma_{i,n} \\cdot log(p \\cdot \\phi_{2}(x_i)) + (1 -\\gamma_{i,n}) \\cdot log((1-p) \\cdot \\phi_{1}(x_i)) \\right) &=0 \\\\\n",
    "\\sum_i \\gamma_{i,n} \\left(\\frac{\\sigma_{2,n} \\sqrt{2 \\pi}}{p} \\cdot \\frac{1}{\\sigma_{2,n} \\sqrt{2 \\pi}}   \\right) + (1- \\gamma_{i,n}) \\left(\\frac{\\sigma_{1,n} \\sqrt{2 \\pi}}{1-p} \\cdot \\frac{-1}{\\sigma_{1,n} \\sqrt{2 \\pi}}   \\right) &=0 \\\\\n",
    "\\sum_i \\frac{\\gamma_{i,n}}{p} + \\frac{1- \\gamma_{i,n}}{p-1} &=0 \\\\\n",
    "\\sum_i \\frac{\\gamma_{i,n} \\cdot (p-1) + (1 - \\gamma_{i,n}) \\cdot (p)}{(p)(p-1)} &=0 \\\\\n",
    "\\sum_i \\frac{p - \\gamma_{i,n}}{(p)(p-1)} &=0 \\\\\n",
    "\\sum_i p &= \\sum_i \\gamma_{i,n}\\\\\n",
    "p &= \\frac{\\sum_i \\gamma_{i,n}}{N}\\\\\n",
    "\\end{align}$$"
   ]
  },
  {
   "cell_type": "markdown",
   "metadata": {},
   "source": [
    "## Summary of Solutions for $\\theta_{n+1}$\n",
    "$$\\begin{align}\n",
    "p_{n+1}&= \\frac{\n",
    "\\sum_{i=1}^N \\gamma_{i,n}\n",
    "}{\n",
    "N\n",
    "} \\\\\n",
    "\\mu_{1,n+1} &= \\frac{\n",
    "\\sum_{i=1}^N (1 - \\gamma_{i,n}) x_i\n",
    "}{\n",
    "\\sum_{i=1}^N (1 - \\gamma_{i,n})\n",
    "} \\\\\n",
    "\\sigma_{1, n+1} &= \\frac{\n",
    "\\sum_{i=1}^N (1 - \\gamma_{i,n}) (x_i - \\mu_{2,n})^2\n",
    "}{\n",
    "\\sum_{i=1}^N (1 - \\gamma_{i,n})\n",
    "} \\\\\n",
    "\\mu_{2,n+1} &= \\frac{\n",
    "\\sum_{i=1}^N \\gamma_{i,n} x_i\n",
    "}{\n",
    "\\sum_{i=1}^N \\gamma_{i,n}\n",
    "} \\\\\n",
    "\\sigma_{2, n+1} &= \\frac{\n",
    "\\sum_{i=1}^N \\gamma_{i,n} (x_i - \\mu_{2,n})^2\n",
    "}{\n",
    "\\sum_{i=1}^N \\gamma_{i,n}\n",
    "} \n",
    "\\end{align}$$\n"
   ]
  },
  {
   "cell_type": "code",
   "execution_count": null,
   "metadata": {
    "scrolled": true
   },
   "outputs": [],
   "source": [
    "def maximisation_step(gamma_i, samples):\n",
    "    gamma_1_i = 1 - gamma_i\n",
    "    pi = np.sum(gamma_i)/l\n",
    "    mu_1 = np.sum(np.multiply(gamma_1_i,samples)) / np.sum(gamma_1_i)\n",
    "    mu_2 = np.sum(np.multiply(gamma_i,samples)) / np.sum(gamma_i)\n",
    "    stde_1 = np.sqrt(np.sum(np.multiply(gamma_1_i,\n",
    "                            np.power(np.add(samples,[-mu_1]*l),2)))/np.sum(gamma_1_i))\n",
    "    stde_2 = np.sqrt(np.sum(np.multiply(gamma_i,\n",
    "                            np.power(np.add(samples,[-mu_2]*l),2)))/np.sum(gamma_i))\n",
    "    return mu_1, mu_2\n",
    "\n",
    "mu_1, mu_2 = maximisation_step(gamma_i, samples)\n",
    "print(\"pi = {:.4f}, mu_1 = {:.4f}, mu_2 = {:.4f}, stde_1 = {:.4f}, stde_2 = {:.4f}\"\n",
    "      .format(pi,mu_1,mu_2,stde_1,stde_2))\n",
    "# note how the values are being updated"
   ]
  },
  {
   "cell_type": "markdown",
   "metadata": {},
   "source": [
    "# Performing iterations <a class=\"anchor\" id=\"Performing iterations\"></a>\n",
    "We will do many iterations, and see their result."
   ]
  },
  {
   "cell_type": "code",
   "execution_count": null,
   "metadata": {},
   "outputs": [],
   "source": [
    "%matplotlib qt\n",
    "import numpy as np\n",
    "import matplotlib.pyplot as plt\n",
    "from matplotlib.widgets import Slider, Button, RadioButtons\n",
    "\n",
    "fig, ax = plt.subplots()\n",
    "plt.subplots_adjust(left=0.25, bottom=0.25)\n",
    "t = np.arange(0.0, 1.0, 0.001)\n",
    "a0 = 5\n",
    "f0 = 3\n",
    "delta_f = 5.0\n",
    "s = a0*np.sin(2*np.pi*f0*t)\n",
    "l, = plt.plot(t, s, lw=2, color='red')\n",
    "plt.axis([0, 1, -10, 10])\n",
    "\n",
    "axcolor = 'lightgoldenrodyellow'\n",
    "axfreq = plt.axes([0.25, 0.1, 0.65, 0.03], facecolor=axcolor)\n",
    "axamp = plt.axes([0.25, 0.15, 0.65, 0.03], facecolor=axcolor)\n",
    "\n",
    "sfreq = Slider(axfreq, 'Freq', 0.1, 30.0, valinit=f0, valstep=delta_f)\n",
    "samp = Slider(axamp, 'Amp', 0.1, 10.0, valinit=a0)\n",
    "\n",
    "def update(val):\n",
    "    amp = samp.val\n",
    "    freq = sfreq.val\n",
    "    l.set_ydata(amp*np.sin(2*np.pi*freq*t))\n",
    "    fig.canvas.draw_idle()\n",
    "sfreq.on_changed(update)\n",
    "samp.on_changed(update)\n",
    "\n",
    "resetax = plt.axes([0.8, 0.025, 0.1, 0.04])\n",
    "button = Button(resetax, 'Reset', color=axcolor, hovercolor='0.975')\n",
    "\n",
    "def reset(event):\n",
    "    sfreq.reset()\n",
    "    samp.reset()\n",
    "button.on_clicked(reset)\n",
    "\n",
    "# rax = plt.axes([0.025, 0.5, 0.15, 0.15], facecolor=axcolor)\n",
    "# radio = RadioButtons(rax, ('red', 'blue', 'green'), active=0)\n",
    "\n",
    "# def colorfunc(label):\n",
    "#     l.set_color(label)\n",
    "#     fig.canvas.draw_idle()\n",
    "# radio.on_clicked(colorfunc)\n",
    "\n",
    "plt.show()"
   ]
  },
  {
   "cell_type": "markdown",
   "metadata": {},
   "source": [
    "## Setting the initial parameters <a class=\"anchor\" id=\"Setting the initial parameters\"></a>\n",
    "We will need to start from a set of parameters to begin our parameters from. Perhaps we should use something that is reasonable. The initial mean for each of the distribution value should be slightly different from one another so they can start diverging.\n",
    "\n",
    "$$\\begin{align}\n",
    "\\hat{\\mu}_1 &= +\\epsilon + \\frac{1}{N} \\sum_{i=1}^N x_i \\\\\n",
    "\\hat{\\sigma}_1 &= \\sqrt{\\frac{1}{N-1} \\sum_{i=1}^N  (x_i - \\hat{\\mu}_2)^2} \\\\\n",
    "\\hat{\\mu}_2 &= - \\epsilon + \\frac{1}{N} \\sum_{i=1}^N x_i \\\\\n",
    "\\hat{\\sigma}_2 &= \\sqrt{\\frac{1}{N-1} \\sum_{i=1}^N  (x_i - \\hat{\\mu}_2)^2} \\\\\n",
    "\\hat{\\pi} &= 0.5 \n",
    "\\end{align}$$"
   ]
  },
  {
   "cell_type": "code",
   "execution_count": null,
   "metadata": {
    "scrolled": true
   },
   "outputs": [],
   "source": [
    "# the five parameters\n",
    "pi = pi_true # probability if it lies from \n",
    "mu_1 = 0.\n",
    "stde_1 = stde_1_true \n",
    "mu_2 = 0.1\n",
    "stde_2 = stde_2_true"
   ]
  },
  {
   "cell_type": "code",
   "execution_count": null,
   "metadata": {
    "scrolled": true
   },
   "outputs": [],
   "source": [
    "pi_list = [pi]\n",
    "mu_1_list = [mu_1]\n",
    "stde_1_list = [stde_1]\n",
    "mu_2_list = [mu_2]\n",
    "stde_2_list = [stde_2]\n",
    "nll = calc_nll(mu_1, mu_2)\n",
    "nll_list = [nll]"
   ]
  },
  {
   "cell_type": "code",
   "execution_count": null,
   "metadata": {
    "scrolled": false
   },
   "outputs": [],
   "source": [
    "%matplotlib inline\n",
    "iterations = 10\n",
    "plotting = False\n",
    "for x in range(iterations):\n",
    "    \n",
    "    if x%1 == 0:\n",
    "        plot_hist_pdf(samples, pi, mu_1, mu_2, stde_1, stde_2)\n",
    "        print(\"interation {}, nll = {}\".format(x, nll))\n",
    "\n",
    "    gamma_i = expectation_step(pi,mu_1,mu_2,stde_1,stde_2,samples)\n",
    "    \n",
    "    nll_lower_map = nll_lower(mu_1_possible, mu_2_possible)\n",
    "    plot_ell_compare(nll_lower_map, nll_map)\n",
    "    plot_ell_compare3d(nll_lower_map, nll_map)\n",
    "    \n",
    "    mu_1, mu_2 = maximisation_step(gamma_i, samples)\n",
    "    \n",
    "    pi_list.append(pi)\n",
    "    mu_1_list.append(mu_1)\n",
    "    stde_1_list.append(stde_1)\n",
    "    mu_2_list.append(mu_2)\n",
    "    stde_2_list.append(stde_2)\n",
    "    nll = calc_nll(mu_1, mu_2)\n",
    "    nll_list.append(nll)"
   ]
  },
  {
   "cell_type": "markdown",
   "metadata": {},
   "source": [
    "### Statistics on the rate of decrease of nll"
   ]
  },
  {
   "cell_type": "code",
   "execution_count": null,
   "metadata": {
    "scrolled": true
   },
   "outputs": [],
   "source": [
    "plt.figure(figsize=(16,4))\n",
    "plt.plot(np.add(pi_list,-pi_true), label=\"$\\hat{\\pi}$\")\n",
    "plt.plot(np.add(mu_1_list,-mu_1_true), label=\"$\\hat{\\mu}_1$\")\n",
    "plt.plot(np.add(stde_1_list,-stde_1_true), label=\"$\\hat{\\sigma}_1$\")\n",
    "plt.plot(np.add(mu_2_list,-mu_2_true), label=\"$\\hat{\\mu}_2$\")\n",
    "plt.plot(np.add(stde_2_list,-stde_2_true), label=\"$\\hat{\\sigma}_2$\")\n",
    "plt.axhline(y=0, color='r', linestyle='--')\n",
    "plt.legend(loc=\"best\")\n",
    "plt.show()"
   ]
  },
  {
   "cell_type": "code",
   "execution_count": null,
   "metadata": {
    "scrolled": true
   },
   "outputs": [],
   "source": [
    "plt.figure(figsize=(16,2))\n",
    "plt.plot(nll_list-nll_true, label=\"negative log likelihood, difference from ground truth\")\n",
    "plt.legend(loc=\"best\")\n",
    "plt.yscale('symlog')  # linear when near zero\n",
    "plt.axhline(y=0, color='r', linestyle='--')\n",
    "plt.show()"
   ]
  },
  {
   "cell_type": "code",
   "execution_count": null,
   "metadata": {},
   "outputs": [],
   "source": [
    "%matplotlib qt\n",
    "import numpy as np\n",
    "import matplotlib.pyplot as plt\n",
    "import mpl_toolkits.mplot3d.axes3d as p3\n",
    "import matplotlib.animation as animation\n",
    "\n",
    "\n",
    "def Gen_RandLine(length, dims=2):\n",
    "    \"\"\"\n",
    "    Create a line using a random walk algorithm\n",
    "\n",
    "    length is the number of points for the line.\n",
    "    dims is the number of dimensions the line has.\n",
    "    \"\"\"\n",
    "    lineData = np.empty((dims, length))\n",
    "    lineData[:, 0] = np.random.rand(dims)\n",
    "    for index in range(1, length):\n",
    "        # scaling the random numbers by 0.1 so\n",
    "        # movement is small compared to position.\n",
    "        # subtraction by 0.5 is to change the range to [-0.5, 0.5]\n",
    "        # to allow a line to move backwards.\n",
    "        step = ((np.random.rand(dims) - 0.5) * 0.1)\n",
    "        lineData[:, index] = lineData[:, index - 1] + step\n",
    "\n",
    "    return lineData\n",
    "\n",
    "\n",
    "def update_lines(num, dataLines, lines):\n",
    "    for line, data in zip(lines, dataLines):\n",
    "        # NOTE: there is no .set_data() for 3 dim data...\n",
    "        line.set_data(data[0:2, :num])\n",
    "        line.set_3d_properties(data[2, :num])\n",
    "    return lines\n",
    "\n",
    "# Attaching 3D axis to the figure\n",
    "fig = plt.figure()\n",
    "ax = p3.Axes3D(fig)\n",
    "\n",
    "# Fifty lines of random 3-D lines\n",
    "data = [Gen_RandLine(25, 3) for index in range(50)]\n",
    "\n",
    "# Creating fifty line objects.\n",
    "# NOTE: Can't pass empty arrays into 3d version of plot()\n",
    "lines = [ax.plot(dat[0, 0:1], dat[1, 0:1], dat[2, 0:1])[0] for dat in data]\n",
    "\n",
    "# Setting the axes properties\n",
    "ax.set_xlim3d([0.0, 1.0])\n",
    "ax.set_xlabel('X')\n",
    "\n",
    "ax.set_ylim3d([0.0, 1.0])\n",
    "ax.set_ylabel('Y')\n",
    "\n",
    "ax.set_zlim3d([0.0, 1.0])\n",
    "ax.set_zlabel('Z')\n",
    "\n",
    "ax.set_title('3D Test')\n",
    "\n",
    "# Creating the Animation object\n",
    "line_ani = animation.FuncAnimation(fig, update_lines, 25, fargs=(data, lines),\n",
    "                                   interval=50, blit=False)\n",
    "\n",
    "plt.show()"
   ]
  },
  {
   "cell_type": "code",
   "execution_count": null,
   "metadata": {},
   "outputs": [],
   "source": []
  }
 ],
 "metadata": {
  "kernelspec": {
   "display_name": "Python [conda env:dw]",
   "language": "python",
   "name": "conda-env-dw-py"
  },
  "language_info": {
   "codemirror_mode": {
    "name": "ipython",
    "version": 3
   },
   "file_extension": ".py",
   "mimetype": "text/x-python",
   "name": "python",
   "nbconvert_exporter": "python",
   "pygments_lexer": "ipython3",
   "version": "3.6.5"
  }
 },
 "nbformat": 4,
 "nbformat_minor": 2
}
